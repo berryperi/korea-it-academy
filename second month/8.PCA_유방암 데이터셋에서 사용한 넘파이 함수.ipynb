{
 "cells": [
  {
   "cell_type": "markdown",
   "id": "d6cb620b",
   "metadata": {},
   "source": [
    "# np.vstack()"
   ]
  },
  {
   "cell_type": "code",
   "execution_count": 1,
   "id": "df36b3f6",
   "metadata": {},
   "outputs": [
    {
     "name": "stdout",
     "output_type": "stream",
     "text": [
      "[[1 2 3]\n",
      " [4 5 6]]\n"
     ]
    }
   ],
   "source": [
    "import numpy as np\n",
    "\n",
    "#두개의 1차원 배열 생성\n",
    "a = np.array([1, 2, 3])\n",
    "b = np.array([4, 5, 6])\n",
    "\n",
    "#두 배열을 수직으로 쌓아서 2차원 배열 생성\n",
    "result = np.vstack((a, b))\n",
    "print(result)"
   ]
  },
  {
   "cell_type": "markdown",
   "id": "a28704dc",
   "metadata": {},
   "source": [
    "# np.concatenate()"
   ]
  },
  {
   "cell_type": "code",
   "execution_count": 2,
   "id": "e2c28c45",
   "metadata": {},
   "outputs": [
    {
     "name": "stdout",
     "output_type": "stream",
     "text": [
      "[1 2 3 4 5 6]\n"
     ]
    }
   ],
   "source": [
    "# 두 배열을 가로로 연결해서 1차원 배열 생성\n",
    "result = np.concatenate((a, b))\n",
    "print(result)"
   ]
  },
  {
   "cell_type": "code",
   "execution_count": 3,
   "id": "15c77416",
   "metadata": {},
   "outputs": [
    {
     "name": "stdout",
     "output_type": "stream",
     "text": [
      "[[1 2]\n",
      " [3 4]\n",
      " [5 6]]\n"
     ]
    }
   ],
   "source": [
    "a = np.array([[1, 2], [3, 4]])\n",
    "b = np.array([[5, 6]])\n",
    "\n",
    "#두 배열을 세로로 연결해서 2차원 배열 생성\n",
    "result = np.concatenate((a, b), axis = 0)\n",
    "print(result)"
   ]
  },
  {
   "cell_type": "markdown",
   "id": "bf7a953b",
   "metadata": {},
   "source": [
    "# np.meshgrid()"
   ]
  },
  {
   "cell_type": "code",
   "execution_count": 11,
   "id": "acedb4fb",
   "metadata": {},
   "outputs": [
    {
     "name": "stdout",
     "output_type": "stream",
     "text": [
      "[[-5.  -2.5  0.   2.5  5. ]\n",
      " [-5.  -2.5  0.   2.5  5. ]\n",
      " [-5.  -2.5  0.   2.5  5. ]]\n",
      "[[-3. -3. -3. -3. -3.]\n",
      " [ 0.  0.  0.  0.  0.]\n",
      " [ 3.  3.  3.  3.  3.]]\n",
      "[-5.  -2.5  0.   2.5  5.  -5.  -2.5  0.   2.5  5.  -5.  -2.5  0.   2.5\n",
      "  5. ]\n",
      "[-3. -3. -3. -3. -3.  0.  0.  0.  0.  0.  3.  3.  3.  3.  3.]\n"
     ]
    }
   ],
   "source": [
    "# x, y축 범위 지정\n",
    "#x축 : -5 ~ 5까지 5개의 값\n",
    "#y축 : -3 ~ 3까지 3개의 값\n",
    "\n",
    "x = np.linspace(-5, 5, 5)\n",
    "y = np.linspace(-3, 3, 3)\n",
    "\n",
    "x\n",
    "y\n",
    "\n",
    "#격자 생성\n",
    "xx, yy = np.meshgrid(x, y)\n",
    "\n",
    "print(xx)\n",
    "print(yy)\n",
    "print(xx.ravel())\n",
    "print(yy.ravel())"
   ]
  },
  {
   "cell_type": "code",
   "execution_count": 10,
   "id": "7ced5352",
   "metadata": {},
   "outputs": [
    {
     "data": {
      "image/png": "[encoded data removed]",
      "text/plain": [
       "<Figure size 640x480 with 1 Axes>"
      ]
     },
     "metadata": {},
     "output_type": "display_data"
    }
   ],
   "source": [
    "import matplotlib.pyplot as plt\n",
    "\n",
    "plt.scatter(xx, yy)\n",
    "plt.grid(True)\n",
    "plt.show()\n"
   ]
  },
  {
   "cell_type": "code",
   "execution_count": null,
   "id": "b286891a",
   "metadata": {},
   "outputs": [],
   "source": []
  },
  {
   "cell_type": "code",
   "execution_count": null,
   "id": "c475ff9c",
   "metadata": {},
   "outputs": [],
   "source": []
  },
  {
   "cell_type": "code",
   "execution_count": null,
   "id": "ce92bac4",
   "metadata": {},
   "outputs": [],
   "source": []
  },
  {
   "cell_type": "code",
   "execution_count": null,
   "id": "10c13ae0",
   "metadata": {},
   "outputs": [],
   "source": []
  },
  {
   "cell_type": "code",
   "execution_count": null,
   "id": "097c7269",
   "metadata": {},
   "outputs": [],
   "source": []
  }
 ],
 "metadata": {
  "kernelspec": {
   "display_name": "Python 3 (ipykernel)",
   "language": "python",
   "name": "python3"
  },
  "language_info": {
   "codemirror_mode": {
    "name": "ipython",
    "version": 3
   },
   "file_extension": ".py",
   "mimetype": "text/x-python",
   "name": "python",
   "nbconvert_exporter": "python",
   "pygments_lexer": "ipython3",
   "version": "3.11.4"
  }
 },
 "nbformat": 4,
 "nbformat_minor": 5
}
