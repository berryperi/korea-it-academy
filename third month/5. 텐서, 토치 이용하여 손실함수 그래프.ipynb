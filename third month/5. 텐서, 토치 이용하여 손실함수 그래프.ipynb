{
 "cells": [
  {
   "cell_type": "code",
   "execution_count": 1,
   "id": "6bdd6a0b",
   "metadata": {},
   "outputs": [
    {
     "name": "stdout",
     "output_type": "stream",
     "text": [
      "WARNING:tensorflow:From C:\\Users\\JOOYONKJ\\anaconda3\\Lib\\site-packages\\keras\\src\\losses.py:2976: The name tf.losses.sparse_softmax_cross_entropy is deprecated. Please use tf.compat.v1.losses.sparse_softmax_cross_entropy instead.\n",
      "\n"
     ]
    }
   ],
   "source": [
    "import tensorflow as tf"
   ]
  },
  {
   "cell_type": "code",
   "execution_count": 2,
   "id": "aa7354c9",
   "metadata": {},
   "outputs": [
    {
     "name": "stdout",
     "output_type": "stream",
     "text": [
      "[[7 7 7 7]\n",
      " [7 7 7 7]\n",
      " [7 7 7 7]]\n",
      "tf.Tensor(\n",
      "[[ 2  4]\n",
      " [ 6  8]\n",
      " [10 12]], shape=(3, 2), dtype=int32)\n",
      "[[ 8 10]\n",
      " [12 14]\n",
      " [16 18]]\n",
      "(2, 3) (3, 2)\n",
      "tf.Tensor(\n",
      "[[ 9 12 15]\n",
      " [19 26 33]\n",
      " [29 40 51]], shape=(3, 3), dtype=int32)\n",
      "tf.Tensor(\n",
      "[[1 8 6 8 2]\n",
      " [4 8 5 1 1]\n",
      " [0 9 7 2 6]], shape=(3, 5), dtype=int32)\n"
     ]
    }
   ],
   "source": [
    "import numpy as np\n",
    "#1. 크기가 3, 4 모든 원소가 7인 텐서 t1\n",
    "t1 = tf.constant(7, shape = (3, 4))\n",
    "print(t1.numpy())\n",
    "\n",
    "#2. 2차원 텐서를 생성하고 모든 원소를 2배로 곱한 새로운 텐서 생성 t2\n",
    "# [1, 2]   [3, 4]    [5, 6]\n",
    "t2 = tf.constant([[1,2], [3, 4], [5, 6]])\n",
    "t2 = t2 * 2\n",
    "print(t2)\n",
    "\n",
    "\n",
    "#3. 두개의 2차원텐서 tensor1, tensor2를 생성하고 두 텐서를 더한 결과 출력 t3\n",
    "#텐서 크기와 데이터 타입 출력\n",
    "#3행 2열\n",
    "tensor1 = tf.constant([[1, 2], [3, 4], [5, 6]])\n",
    "tensor2 = tf.constant([[7, 8], [9, 10], [11, 12]])\n",
    "t3 = tf.add(tensor1, tensor2)\n",
    "print(t3.numpy())\n",
    "\n",
    "#4. tensor1, tensor2 행렬곱셈 연산 결과 출력 t4\n",
    "tensor3 = tf.constant([[1, 2, 3], [4, 5, 6]])\n",
    "print(tensor3.shape, tensor1.shape)\n",
    "t4 = tf.matmul(tensor1, tensor3)\n",
    "print(t4)\n",
    "\n",
    "#5. 크기가 3, 5이고 0~9까지 랜덤한 정수로 채워진 텐서 생성 t5\n",
    "#넘파이의 랜덤 이용\n",
    "t5 = tf.constant(np.random.randint(0, 10, size = (3, 5)))\n",
    "print(t5)\n",
    "\n",
    "# 행렬 곱셈을 수행하기 위해서는 첫번째 행렬의 열수와 두번째 행렬의 행수가 같아야한다"
   ]
  },
  {
   "cell_type": "code",
   "execution_count": 3,
   "id": "d2c1341e",
   "metadata": {},
   "outputs": [
    {
     "name": "stdout",
     "output_type": "stream",
     "text": [
      "tf.Tensor(\n",
      "[[ 0.820157   -0.28325012]\n",
      " [ 0.95670116 -0.9654751 ]], shape=(2, 2), dtype=float32)\n",
      "tf.Tensor(\n",
      "[[0 0]\n",
      " [0 0]], shape=(2, 2), dtype=int32)\n",
      "tf.Tensor(\n",
      "[[1 2]\n",
      " [3 4]\n",
      " [5 6]], shape=(3, 2), dtype=int32)\n",
      "tf.Tensor(\n",
      "[[1 2]\n",
      " [3 4]], shape=(2, 2), dtype=int32)\n",
      "tf.Tensor(\n",
      "[[1 2]\n",
      " [3 4]], shape=(2, 2), dtype=int32)\n",
      "[[ 2  4  6]\n",
      " [ 5  7  9]\n",
      " [ 8 10 12]]\n",
      "[[2 3 4]\n",
      " [3 4 5]\n",
      " [4 5 6]]\n"
     ]
    }
   ],
   "source": [
    "#6. tensor3에 저장, 2x2 정규분포에서 랜덤한 값을 추출 -> 정수 형태로만 t6\n",
    "tensor3 = tf.random.normal((2,2))\n",
    "print(tensor3)\n",
    "\n",
    "t6 = tf.cast(tensor3, tf.int32)\n",
    "print(t6)\n",
    "\n",
    "#7. tensor1과 tensor3 더하기 연산  t7\n",
    "# t7 = tf.add(tensor1, tensor3)\n",
    "print(tensor1)\n",
    "tensor1 = tf.constant([[1, 2], [3, 4]], dtype = tf.int32)\n",
    "print(tensor1)\n",
    "t7 = tensor1 + t6\n",
    "print(t7)\n",
    "\n",
    "#8. 넘파이 브로드캐스팅이 될 수 있도록 구현하기\n",
    "    # - (3, 3) 모양의 배열에 (1, 3) 배열을 더했을 때 결과\n",
    "    # - (3, 1) 모양의 배열에 (3, ) 배열을 더했을 때 결과\n",
    "ar1 = np.array([[1, 2, 3], [4, 5, 6], [7, 8, 9]])\n",
    "ar2 = np.array([[1, 2, 3]])\n",
    "print(ar1 + ar2)\n",
    "\n",
    "ar3 = np.array([[1], [2], [3]])\n",
    "ar4 = np.array([1, 2, 3])\n",
    "print(ar3 + ar4)"
   ]
  },
  {
   "cell_type": "code",
   "execution_count": 4,
   "id": "1fc84fd0",
   "metadata": {},
   "outputs": [
    {
     "name": "stdout",
     "output_type": "stream",
     "text": [
      "tf.Tensor(\n",
      "[[19. 22.]\n",
      " [43. 50.]], shape=(2, 2), dtype=float32)\n",
      "tf.Tensor([4. 6.], shape=(2,), dtype=float32)\n",
      "tf.Tensor([3. 7.], shape=(2,), dtype=float32)\n",
      "tf.Tensor([3. 7.], shape=(2,), dtype=float32)\n",
      "tf.Tensor(\n",
      "[[1. 2.]\n",
      " [3. 4.]\n",
      " [5. 6.]\n",
      " [7. 8.]], shape=(4, 2), dtype=float32)\n",
      "tf.Tensor(\n",
      "[[1. 2. 5. 6.]\n",
      " [3. 4. 7. 8.]], shape=(2, 4), dtype=float32)\n",
      "tf.Tensor([[1. 2. 3. 4.]], shape=(1, 4), dtype=float32)\n"
     ]
    }
   ],
   "source": [
    "#텐서플로우 함수\n",
    "\n",
    "t1 = tf.constant([1.0, 2.0, 3.0])\n",
    "t2 = tf.constant([4.0, 5.0, 6.0])\n",
    "\n",
    "#연산\n",
    "add_re = tf.add(t1, t2)\n",
    "sub_re = tf.subtract(t1, t2)\n",
    "mul_re = tf.multiply(t1, t2)\n",
    "div_re = tf.divide(t1, t2)\n",
    "\n",
    "# print(tf.matmul(t1, t2))\n",
    "#행렬곱연산\n",
    "m1 = tf.constant([[1.0, 2.0], [3.0, 4.0]])\n",
    "m2 = tf.constant([[5.0, 6.0], [7.0, 8.0]])\n",
    "print(tf.matmul(m1, m2))\n",
    "\n",
    "#요소의 총 합계계산\n",
    "result_0 = tf.reduce_sum(m1, axis = 0)\n",
    "print(result_0)\n",
    "result_1 = tf.reduce_sum(m1, axis = 1)\n",
    "print(result_1)\n",
    "result_last = tf.reduce_sum(m1, axis = -1)\n",
    "print(result_last)\n",
    "\n",
    "#행과 열 합치기\n",
    "print(tf.concat([m1, m2], axis = 0))\n",
    "print(tf.concat([m1, m2], axis = 1))\n",
    "\n",
    "#m1의 텐서를 1행 4열로 변환\n",
    "print(tf.reshape(m1, (1, 4)))\n"
   ]
  },
  {
   "cell_type": "code",
   "execution_count": 5,
   "id": "97a3766d",
   "metadata": {},
   "outputs": [],
   "source": [
    "t1 = tf.constant([[1, 2], [3, 4]])\n",
    "t2 = tf.constant([[10, 20], [30, 40]])\n",
    "# [0][0] = 첫번째 행렬의 0번째 행의 첫번째 원소 * 두번째 행렬의 0번째 열의 첫번째 원소\n",
    "    # + 첫번째 행렬의 0번째 행의 두번째 원소 * 두번째 행렬의 1번째 열의 첫번째 원소\n"
   ]
  },
  {
   "cell_type": "code",
   "execution_count": 6,
   "id": "98a407ab",
   "metadata": {},
   "outputs": [
    {
     "name": "stdout",
     "output_type": "stream",
     "text": [
      "tf.Tensor(\n",
      "[[1. 2.]\n",
      " [3. 4.]], shape=(2, 2), dtype=float32)\n",
      "tf.Tensor(\n",
      "[[5. 6.]\n",
      " [7. 8.]], shape=(2, 2), dtype=float32)\n",
      "tf.Tensor(\n",
      "[[1 2]\n",
      " [3 4]], shape=(2, 2), dtype=int32)\n",
      "tf.Tensor([3 4], shape=(2,), dtype=int32)\n",
      "tf.Tensor([1. 2.], shape=(2,), dtype=float32)\n",
      "tf.Tensor(1.0, shape=(), dtype=float32)\n",
      "tf.Tensor([[3 4]], shape=(1, 2), dtype=int32)\n",
      "tf.Tensor([[3. 4.]], shape=(1, 2), dtype=float32)\n",
      "tf.Tensor(\n",
      "[[2.]\n",
      " [4.]], shape=(2, 1), dtype=float32)\n"
     ]
    }
   ],
   "source": [
    "#인덱싱과 슬라이싱\n",
    "print(m1)\n",
    "print(m2)\n",
    "\n",
    "print(t1)\n",
    "print(t1[1])\n",
    "\n",
    "print(m1[0])\n",
    "print(m1[0, 0])\n",
    "\n",
    "print(t1[1:3])\n",
    "print(m1[1:])\n",
    "\n",
    "print(m1[:, 1:])"
   ]
  },
  {
   "cell_type": "code",
   "execution_count": 7,
   "id": "c2b1c5a7",
   "metadata": {},
   "outputs": [
    {
     "name": "stdout",
     "output_type": "stream",
     "text": [
      "<tf.Variable 'Variable:0' shape=() dtype=float32, numpy=0.0>\n",
      "<tf.Variable 'UnreadVariable' shape=() dtype=float32, numpy=5.0>\n",
      "<tf.Variable 'UnreadVariable' shape=() dtype=float32, numpy=7.2>\n",
      "<tf.Variable 'UnreadVariable' shape=() dtype=float32, numpy=7.0>\n"
     ]
    }
   ],
   "source": [
    "#변수 생성 및 assign\n",
    "\n",
    "var = tf.Variable(0.0)\n",
    "print(var)\n",
    "var_re = var.assign(5.0)\n",
    "print(var_re)\n",
    "var_add = var_re.assign_add(2.2)\n",
    "print(var_add)\n",
    "var_sub = var_add.assign_sub(0.2)\n",
    "print(var_sub)"
   ]
  },
  {
   "cell_type": "code",
   "execution_count": 8,
   "id": "0a2984ce",
   "metadata": {},
   "outputs": [
    {
     "name": "stdout",
     "output_type": "stream",
     "text": [
      "tf.Tensor(\n",
      "[[1. 3.]\n",
      " [2. 4.]], shape=(2, 2), dtype=float32)\n",
      "tf.Tensor(2.5, shape=(), dtype=float32)\n",
      "tf.Tensor(\n",
      "[[ 1.  4.]\n",
      " [ 9. 16.]], shape=(2, 2), dtype=float32)\n"
     ]
    }
   ],
   "source": [
    "#행렬전치\n",
    "result = tf.transpose(m1)\n",
    "print(result)\n",
    "\n",
    "#평균계산\n",
    "mean_re = tf.reduce_mean(m1)\n",
    "print(mean_re)\n",
    "square_re = tf.square(m1)\n",
    "print(square_re)"
   ]
  },
  {
   "cell_type": "code",
   "execution_count": 9,
   "id": "109042c5",
   "metadata": {},
   "outputs": [],
   "source": [
    "import torch"
   ]
  },
  {
   "cell_type": "code",
   "execution_count": 10,
   "id": "269bba6f",
   "metadata": {},
   "outputs": [
    {
     "name": "stdout",
     "output_type": "stream",
     "text": [
      "[[1, 2, 3], [4, 5, 6]] <class 'list'>\n",
      "tensor([[1, 2, 3],\n",
      "        [4, 5, 6]]) <class 'torch.Tensor'>\n",
      "torch.Size([2, 3])\n",
      "torch.int64\n",
      "tensor(6)\n",
      "2\n"
     ]
    }
   ],
   "source": [
    "#파이토치로 텐서 생성\n",
    "t1 = [[1, 2, 3], [4, 5, 6]]\n",
    "result = torch.tensor(t1)\n",
    "print(t1, type(t1))\n",
    "print(result, type(result))\n",
    "\n",
    "#텐서의 차원\n",
    "print(result.size())\n",
    "print(result.dtype)\n",
    "\n",
    "#특정 원소에 접근\n",
    "print(result[1, 2])\n",
    "result1 = result[0, 1]\n",
    "print(result1.item())\n"
   ]
  },
  {
   "cell_type": "code",
   "execution_count": 11,
   "id": "e9ac6ff7",
   "metadata": {},
   "outputs": [
    {
     "name": "stdout",
     "output_type": "stream",
     "text": [
      "<tf.Variable 'Variable:0' shape=(3, 2) dtype=float32, numpy=\n",
      "array([[-0.75272375,  1.5070118 ],\n",
      "       [-0.32467923,  0.42855027],\n",
      "       [-0.3189831 , -0.8187271 ]], dtype=float32)>\n",
      "<tf.Variable 'Variable:0' shape=(2,) dtype=float32, numpy=array([0., 0.], dtype=float32)>\n"
     ]
    }
   ],
   "source": [
    "#가중치 변수 생성 : (3, 2) 행렬 정규분포에서 랜덤하게 초기화\n",
    "weights = tf.Variable(tf.random.normal((3, 2)))\n",
    "\n",
    "#편향 변수 : (2, ) 행렬 모두 0으로 초기화\n",
    "biases = tf.Variable(tf.zeros((2,)))\n",
    "\n",
    "print(weights)\n",
    "print(biases)"
   ]
  },
  {
   "cell_type": "code",
   "execution_count": 12,
   "id": "9dfea6dc",
   "metadata": {},
   "outputs": [
    {
     "name": "stdout",
     "output_type": "stream",
     "text": [
      "WARNING:tensorflow:From C:\\Users\\JOOYONKJ\\anaconda3\\Lib\\site-packages\\keras\\src\\backend.py:873: The name tf.get_default_graph is deprecated. Please use tf.compat.v1.get_default_graph instead.\n",
      "\n",
      "WARNING:tensorflow:From C:\\Users\\JOOYONKJ\\anaconda3\\Lib\\site-packages\\keras\\src\\optimizers\\__init__.py:309: The name tf.train.Optimizer is deprecated. Please use tf.compat.v1.train.Optimizer instead.\n",
      "\n",
      "WARNING:tensorflow:From C:\\Users\\JOOYONKJ\\anaconda3\\Lib\\site-packages\\keras\\src\\utils\\tf_utils.py:492: The name tf.ragged.RaggedTensorValue is deprecated. Please use tf.compat.v1.ragged.RaggedTensorValue instead.\n",
      "\n",
      "1/1 [==============================] - 0s 346ms/step - loss: 1.6199e-06\n",
      "학습 손실 : 1.6198904404518544e-06\n",
      "1/1 [==============================] - 0s 247ms/step\n",
      "입력 : 11.0 예측 : 10.998405456542969\n",
      "입력 : 12.0 예측 : 11.99800968170166\n"
     ]
    }
   ],
   "source": [
    "import tensorflow as tf\n",
    "import numpy as np\n",
    "import matplotlib.pyplot as plt\n",
    "\n",
    "#입력데이터(1~10)\n",
    "X_train = np.array([1.0, 2.0, 3.0, 4.0, 5.0, 6.0, 7.0, 8.0, 9.0, 10.0])\n",
    "\n",
    "#출력데이터(1~10)\n",
    "y_train = np.array([1.0, 2.0, 3.0, 4.0, 5.0, 6.0, 7.0, 8.0, 9.0, 10.0])\n",
    "\n",
    "#선형회귀 모델 생성\n",
    "model = tf.keras.Sequential([tf.keras.layers.Dense(units=1, input_shape = [1])])\n",
    "\n",
    "#모델 컴파일\n",
    "model.compile(optimizer = \"sgd\", loss = \"mean_squared_error\")\n",
    "\n",
    "#모델 학습\n",
    "model_fit = model.fit(X_train, y_train, epochs = 1000, verbose = 0)\n",
    "\n",
    "#학습 결과 출력\n",
    "loss = model.evaluate(X_train, y_train)\n",
    "print(f\"학습 손실 : {loss}\")\n",
    "\n",
    "#예측 결과 출력\n",
    "X_test = np.array([11.0, 12.0], dtype = np.float32)\n",
    "pred = model.predict(X_test)\n",
    "for i in range(len(X_test)):\n",
    "    print(f\"입력 : {X_test[i]} 예측 : {pred[i][0]}\")\n",
    "\n",
    "#X_test[i] : X_test i번째 요소인 입력데이터\n",
    "#pred[i] : pred 배열에서 i번째 위치에 있는 예측 결과\n",
    "# pred[0] : 첫번째 입력값에 대한 예측 결과, pred[1] : 두번째 입력값에 대한 예측 결과\n",
    "# pred[i][0] : pred[i]안에 있는 값을 의미, [0] 해당값 추출"
   ]
  },
  {
   "cell_type": "code",
   "execution_count": 13,
   "id": "2f4482da",
   "metadata": {},
   "outputs": [
    {
     "data": {
      "image/png": "[encoded data removed]",
      "text/plain": [
       "<Figure size 640x480 with 1 Axes>"
      ]
     },
     "metadata": {},
     "output_type": "display_data"
    }
   ],
   "source": [
    "#손실그래프\n",
    "plt.plot(model_fit.history['loss'])\n",
    "# 모델 학습 과정중 각 에포크(epoch)에서의 손실값이 저장된 리스트\n",
    "plt.show()"
   ]
  },
  {
   "cell_type": "code",
   "execution_count": 14,
   "id": "279546f2",
   "metadata": {},
   "outputs": [
    {
     "data": {
      "image/png": "[encoded data removed]",
      "text/plain": [
       "<Figure size 1000x600 with 2 Axes>"
      ]
     },
     "metadata": {},
     "output_type": "display_data"
    }
   ],
   "source": [
    "#학습곡선 그래프\n",
    "plt.figure(figsize = (10, 6))\n",
    "plt.subplot(121)\n",
    "plt.plot(model_fit.history['loss'])\n",
    "#x축 : 에포크(학습반복횟수), y축 : 손실(오차)\n",
    "#학습이 진행됨에 따라 손실이 감소하는 것을 볼 수 있다\n",
    "#모델이 데이터에 잘 적합하고 있다\n",
    "\n",
    "#예측결과 그래프\n",
    "plt.subplot(122)\n",
    "plt.scatter(X_train, y_train)\n",
    "plt.scatter(X_test, pred, color = 'red')\n",
    "#학습된 모델이 실제 데이터와 얼마나 일치하는지를 확인\n",
    "#예측 데이터가 실제 데이터 점 주변에 근접하기 때문에 모델이 입력 데이터를 기반으로\n",
    "#적절한 예측을 하고 있다는 것을 나타냄\n",
    "plt.show()"
   ]
  },
  {
   "cell_type": "code",
   "execution_count": 15,
   "id": "5f257888",
   "metadata": {},
   "outputs": [
    {
     "name": "stdout",
     "output_type": "stream",
     "text": [
      "에포크 : 10 / 9, 손실 : 0.0436\n",
      "에포크 : 20 / 19, 손실 : 0.0007\n",
      "에포크 : 30 / 29, 손실 : 0.0000\n",
      "에포크 : 40 / 39, 손실 : 0.0000\n",
      "에포크 : 50 / 49, 손실 : 0.0000\n",
      "에포크 : 60 / 59, 손실 : 0.0000\n",
      "에포크 : 70 / 69, 손실 : 0.0000\n",
      "에포크 : 80 / 79, 손실 : 0.0000\n",
      "에포크 : 90 / 89, 손실 : 0.0000\n",
      "에포크 : 100 / 99, 손실 : 0.0000\n",
      "가중치 : 2.999999523162842, 편향 : 1.999999761581421\n",
      "입력 : 11.0, 예측 : 34.999996185302734\n",
      "입력 : 12.0, 예측 : 37.99999237060547\n"
     ]
    },
    {
     "data": {
      "image/png": "[encoded data removed]",
      "text/plain": [
       "<Figure size 640x480 with 1 Axes>"
      ]
     },
     "metadata": {},
     "output_type": "display_data"
    }
   ],
   "source": [
    "#모델 파라미터(가중치와 편향)\n",
    "w = tf.Variable(2.0) #초기 가중치값을 2.0\n",
    "b = tf.Variable(1.0) #초기 편향값을 1.0\n",
    "\n",
    "#실제 가중치와 편향\n",
    "t_w = 3.0   #모델이 학습과정에서 찾아야하는 목표 가중치\n",
    "t_b = 2.0   #모델이 학습과정에서 찾아야하는 목표 편향\n",
    "\n",
    "#데이터 생성\n",
    "X_train = tf.random.normal(shape = (1000, ))\n",
    "y_train = (t_w * X_train) + t_b\n",
    "\n",
    "# print(y_train)\n",
    "\n",
    "#손실함수 정의(평균제곱오차)\n",
    "def mean_squared_error(y_test, pred):\n",
    "    return tf.reduce_mean(tf.square(y_test - pred))\n",
    "\n",
    "#옵티마이저 정의(경사하강법)\n",
    "optimizer = tf.optimizers.SGD(0.1)\n",
    "\n",
    "#학습 루프(에포크)\n",
    "epochs = 100 #총 반복 학습할 수\n",
    "losses = [] #손실을 저장하기 위한 리스트\n",
    "for i in range(epochs):\n",
    "    with tf.GradientTape() as tape:\n",
    "        #예측 계산\n",
    "        pred = w * X_train + b\n",
    "\n",
    "        #손실 계산\n",
    "        loss = mean_squared_error(y_train, pred)\n",
    "        losses.append(loss.numpy())\n",
    "\n",
    "    #그래디언트 계산\n",
    "    gradient = tape.gradient(loss, [w, b])\n",
    "    #그래디언트는 손실함수를 가중치(w), 편향(b)에 대한 미분값\n",
    "    #손실을 최소화하기위해 가중치와 편향을 어떻게 조정해야하는지를 나타내는 부분\n",
    "    #tape.gradient() 손실을 w,  b에 대해 미분한 그래디언트 값을 계산하고 변수에 저장\n",
    "\n",
    "    #가중치와 편향 업데이트\n",
    "    optimizer.apply_gradients(zip(gradient, [w, b]))\n",
    "\n",
    "    if(i + 1) % 10 == 0:\n",
    "        print(f\"에포크 : {i + 1} / {i}, 손실 : {loss.numpy():.4f}\")\n",
    "\n",
    "#학습결과 출력\n",
    "print(f\"가중치 : {w.numpy()}, 편향 : {b.numpy()}\")\n",
    "\n",
    "#예측 결과 출력\n",
    "X_test = np.array([11.0, 12.0], dtype = np.float32)\n",
    "pred = w * X_test + b\n",
    "\n",
    "for i in range(len(X_test)):\n",
    "    print(f\"입력 : {X_test[i]}, 예측 : {pred[i]}\")\n",
    "\n",
    "#손실 그래프\n",
    "plt.plot(losses)\n",
    "plt.show()"
   ]
  },
  {
   "cell_type": "code",
   "execution_count": null,
   "id": "3a129318",
   "metadata": {},
   "outputs": [],
   "source": []
  }
 ],
 "metadata": {
  "kernelspec": {
   "display_name": "Python 3 (ipykernel)",
   "language": "python",
   "name": "python3"
  },
  "language_info": {
   "codemirror_mode": {
    "name": "ipython",
    "version": 3
   },
   "file_extension": ".py",
   "mimetype": "text/x-python",
   "name": "python",
   "nbconvert_exporter": "python",
   "pygments_lexer": "ipython3",
   "version": "3.11.4"
  }
 },
 "nbformat": 4,
 "nbformat_minor": 5
}
