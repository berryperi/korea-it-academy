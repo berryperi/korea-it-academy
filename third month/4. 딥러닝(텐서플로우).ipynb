{
 "cells": [
  {
   "cell_type": "code",
   "execution_count": 3,
   "id": "8321c003",
   "metadata": {},
   "outputs": [
    {
     "name": "stdout",
     "output_type": "stream",
     "text": [
      "Tensorflow 버전확인 : 2.15.0\n"
     ]
    }
   ],
   "source": [
    "import tensorflow as tf\n",
    "\n",
    "print(f\"Tensorflow 버전확인 : {tf.__version__}\")"
   ]
  },
  {
   "cell_type": "markdown",
   "id": "9ef47fbb",
   "metadata": {},
   "source": [
    "# 텐서플로우로 텐서 만들기"
   ]
  },
  {
   "cell_type": "code",
   "execution_count": 7,
   "id": "fd92a794",
   "metadata": {},
   "outputs": [
    {
     "name": "stdout",
     "output_type": "stream",
     "text": [
      "tf.Tensor(5, shape=(), dtype=int32)\n",
      "tf.Tensor([5 3], shape=(2,), dtype=int32)\n",
      "tf.Tensor([50 30], shape=(2,), dtype=int32)\n"
     ]
    }
   ],
   "source": [
    "#정수 상수 텐서 : 값을 변경할 수 없음\n",
    "tensor_int = tf.constant(5, dtype=tf.int32)\n",
    "print(tensor_int)\n",
    "\n",
    "tensor1 = tf.constant([5, 3])\n",
    "print(tensor1)\n",
    "\n",
    "tensor1 = tf.constant([50, 30])\n",
    "print(tensor1)"
   ]
  },
  {
   "cell_type": "code",
   "execution_count": 9,
   "id": "bae71d09",
   "metadata": {},
   "outputs": [
    {
     "name": "stdout",
     "output_type": "stream",
     "text": [
      "<tf.Variable 'Variable:0' shape=() dtype=int32, numpy=5>\n",
      "<tf.Variable 'Variable:0' shape=() dtype=int32, numpy=10>\n"
     ]
    }
   ],
   "source": [
    "#변수 텐서 생성\n",
    "tensor2 = tf.Variable(5)\n",
    "print(tensor2)\n",
    "\n",
    "#변수 텐서의 값 변경\n",
    "tensor2.assign(10)\n",
    "\n",
    "print(tensor2)"
   ]
  },
  {
   "cell_type": "markdown",
   "id": "056977c3",
   "metadata": {},
   "source": [
    "## 4) 넘파이 배열을 텐서로 변환"
   ]
  },
  {
   "cell_type": "code",
   "execution_count": 10,
   "id": "6e6e80fc",
   "metadata": {},
   "outputs": [],
   "source": [
    "import numpy as np\n",
    "import tensorflow as tf"
   ]
  },
  {
   "cell_type": "code",
   "execution_count": 19,
   "id": "dcc5db9b",
   "metadata": {},
   "outputs": [
    {
     "name": "stdout",
     "output_type": "stream",
     "text": [
      "[1 2 3 4] int32 <class 'numpy.ndarray'>\n",
      "tf.Tensor([1 2 3 4], shape=(4,), dtype=int32) <dtype: 'int32'> <class 'tensorflow.python.framework.ops.EagerTensor'>\n"
     ]
    }
   ],
   "source": [
    "numpy_arr = np.array([1, 2, 3, 4])\n",
    "print(numpy_arr, numpy_arr.dtype, type(numpy_arr))\n",
    "\n",
    "tensor1 = tf.convert_to_tensor(numpy_arr)\n",
    "print(tensor1, tensor1.dtype, type(tensor1))\n",
    "#tensor 변수는 텐서플로우에서 사용되는 텐서 데이터 구조"
   ]
  },
  {
   "cell_type": "code",
   "execution_count": 21,
   "id": "5c9d77b4",
   "metadata": {},
   "outputs": [
    {
     "name": "stdout",
     "output_type": "stream",
     "text": [
      "[1, 3, 5.52, 7, 9] <class 'list'>\n",
      "tf.Tensor([1.   3.   5.52 7.   9.  ], shape=(5,), dtype=float32) <class 'tensorflow.python.framework.ops.EagerTensor'>\n"
     ]
    }
   ],
   "source": [
    "#리스트를 텐서로 변환\n",
    "li = [1, 3, 5.52, 7, 9]\n",
    "print(li, type(li))\n",
    "\n",
    "tensor2 = tf.convert_to_tensor(li)\n",
    "print(tensor2, type(tensor2))\n",
    "#리스트는 모든 자료형을 허용하지만 텐서는 실수, 정수일 때만 사용 가능하다"
   ]
  },
  {
   "cell_type": "markdown",
   "id": "25ef7839",
   "metadata": {},
   "source": [
    "## 5) 텐서를 넘파이 배열로 변환"
   ]
  },
  {
   "cell_type": "code",
   "execution_count": 14,
   "id": "089db612",
   "metadata": {},
   "outputs": [
    {
     "name": "stdout",
     "output_type": "stream",
     "text": [
      "[1 2 3 4] <class 'numpy.ndarray'>\n"
     ]
    }
   ],
   "source": [
    "numpy_ar = tensor1.numpy()\n",
    "print(numpy_ar, type(numpy_ar))"
   ]
  },
  {
   "cell_type": "markdown",
   "id": "5a1844d6",
   "metadata": {},
   "source": [
    "## 6) 텐서플로우 함수"
   ]
  },
  {
   "cell_type": "code",
   "execution_count": 22,
   "id": "afc22eed",
   "metadata": {},
   "outputs": [
    {
     "name": "stdout",
     "output_type": "stream",
     "text": [
      "tf.Tensor(12, shape=(), dtype=int32)\n"
     ]
    }
   ],
   "source": [
    "#두 정수 텐서 생성\n",
    "tensor1 = tf.constant(5, dtype=tf.int32)\n",
    "tensor2 = tf.constant(7, dtype=tf.int32)\n",
    "\n",
    "#텐서 덧셈 연산\n",
    "result = tf.add(tensor1, tensor2)\n",
    "print(result)"
   ]
  },
  {
   "cell_type": "code",
   "execution_count": 23,
   "id": "c28c4d9d",
   "metadata": {},
   "outputs": [
    {
     "name": "stdout",
     "output_type": "stream",
     "text": [
      "tf.Tensor(\n",
      "[[19 22]\n",
      " [43 50]], shape=(2, 2), dtype=int32)\n"
     ]
    }
   ],
   "source": [
    "#행렬 곱셈 연산\n",
    "\n",
    "matrix1 = tf.constant([[1, 2], [3, 4]])\n",
    "matrix2 = tf.constant([[5, 6], [7, 8]])\n",
    "\n",
    "result1 = tf.matmul(matrix1, matrix2)\n",
    "print(result1)"
   ]
  },
  {
   "cell_type": "code",
   "execution_count": 24,
   "id": "1d17a9d3",
   "metadata": {},
   "outputs": [
    {
     "name": "stdout",
     "output_type": "stream",
     "text": [
      "[[19 22]\n",
      " [43 50]]\n"
     ]
    }
   ],
   "source": [
    "print(result1.numpy())"
   ]
  },
  {
   "cell_type": "code",
   "execution_count": 28,
   "id": "f675886c",
   "metadata": {},
   "outputs": [
    {
     "name": "stdout",
     "output_type": "stream",
     "text": [
      "tf.Tensor(\n",
      "[[1 2 3]\n",
      " [4 5 6]\n",
      " [7 8 9]], shape=(3, 3), dtype=int32)\n",
      "tf.Tensor(\n",
      "[[2 3]\n",
      " [5 6]], shape=(2, 2), dtype=int32)\n",
      "[[2 3]\n",
      " [5 6]]\n"
     ]
    }
   ],
   "source": [
    "#텐서 슬라이싱 연산\n",
    "\n",
    "#2차원 텐서 생성\n",
    "tensor = tf.constant([[1, 2, 3], [4, 5, 6], [7, 8, 9]])\n",
    "print(tensor)\n",
    "\n",
    "slice_tensor = tensor[0:2, 1:3]\n",
    "print(slice_tensor)\n",
    "print(slice_tensor.numpy())"
   ]
  },
  {
   "cell_type": "code",
   "execution_count": null,
   "id": "b7cf57a6",
   "metadata": {},
   "outputs": [],
   "source": [
    "#활성화 함수 : 인공신경망에서 각 뉴런의 출력을 결정하는 함수\n",
    "# 뉴런의 입력을 받아 어떤 임계값을 기준으로 출력을 결정하는 함수\n",
    "# 비선형을 추가하여 신경망이 복잡한 모델링하거나 다양한 문제를 해결할 수 있도록함\n",
    "# ReLU(Recitified Linear Unit) : 은닉층에서 주로 사용, 양수일 경우 그 값 출력, \n",
    "#음수일경우 0으로 출력하는 함수\n"
   ]
  },
  {
   "cell_type": "code",
   "execution_count": 29,
   "id": "3bf35ee4",
   "metadata": {},
   "outputs": [
    {
     "name": "stdout",
     "output_type": "stream",
     "text": [
      "활성화 함수 적용 결과\n",
      "[0.   2.53 5.33 0.05]\n"
     ]
    }
   ],
   "source": [
    "#실수 텐서 생성\n",
    "tensor3 = tf.constant([-4.14, 2.53, 5.33, 0.05])\n",
    "\n",
    "relu = tf.nn.relu(tensor3)\n",
    "print(\"활성화 함수 적용 결과\")\n",
    "print(relu.numpy())"
   ]
  },
  {
   "cell_type": "code",
   "execution_count": 30,
   "id": "ea9967d7",
   "metadata": {},
   "outputs": [
    {
     "name": "stdout",
     "output_type": "stream",
     "text": [
      "tf.Tensor(\n",
      "[[1 2 3]\n",
      " [4 5 6]], shape=(2, 3), dtype=int32)\n"
     ]
    }
   ],
   "source": [
    "#텐서 크기 변경\n",
    "\n",
    "#1차원 텐서\n",
    "tensor = tf.constant([1, 2, 3, 4, 5, 6])\n",
    "\n",
    "tensor_re = tf.reshape(tensor, (2, 3))\n",
    "print(tensor_re)"
   ]
  },
  {
   "cell_type": "code",
   "execution_count": 31,
   "id": "0b2a09ca",
   "metadata": {},
   "outputs": [
    {
     "name": "stdout",
     "output_type": "stream",
     "text": [
      "[[1. 1. 1.]\n",
      " [1. 1. 1.]\n",
      " [1. 1. 1.]\n",
      " [1. 1. 1.]]\n"
     ]
    }
   ],
   "source": [
    "#모든 요소가 1인 텐서 생성\n",
    "one_tf = tf.ones((4, 3))\n",
    "print(one_tf.numpy())"
   ]
  },
  {
   "cell_type": "code",
   "execution_count": 32,
   "id": "3dfe4b41",
   "metadata": {},
   "outputs": [
    {
     "name": "stdout",
     "output_type": "stream",
     "text": [
      "tf.Tensor(\n",
      "[[0. 0.]\n",
      " [0. 0.]\n",
      " [0. 0.]\n",
      " [0. 0.]\n",
      " [0. 0.]], shape=(5, 2), dtype=float32)\n"
     ]
    }
   ],
   "source": [
    "#모든 요소가 0인 텐서 생성\n",
    "zeros_tf = tf.zeros((5, 2))\n",
    "print(zeros_tf)"
   ]
  },
  {
   "cell_type": "code",
   "execution_count": 33,
   "id": "1553e502",
   "metadata": {},
   "outputs": [
    {
     "name": "stdout",
     "output_type": "stream",
     "text": [
      "[[3 3 3 3 3 3]\n",
      " [3 3 3 3 3 3]\n",
      " [3 3 3 3 3 3]\n",
      " [3 3 3 3 3 3]]\n"
     ]
    }
   ],
   "source": [
    "#주어진 값으로 모든 요소를 채운 텐서 생성하는 함수\n",
    "fill_tf = tf.fill((4, 6), 3)\n",
    "print(fill_tf.numpy())"
   ]
  },
  {
   "cell_type": "code",
   "execution_count": 37,
   "id": "8abe8f0e",
   "metadata": {},
   "outputs": [
    {
     "name": "stdout",
     "output_type": "stream",
     "text": [
      "tf.Tensor(\n",
      "[[ 2.   4.5]\n",
      " [ 5.2 53. ]], shape=(2, 2), dtype=float32)\n",
      "[[ 2.   4.5]\n",
      " [ 5.2 53. ]]\n",
      "tf.Tensor(\n",
      "[[0. 0.]\n",
      " [0. 0.]], shape=(2, 2), dtype=float32)\n",
      "tf.Tensor(\n",
      "[[1. 1.]\n",
      " [1. 1.]], shape=(2, 2), dtype=float32)\n"
     ]
    }
   ],
   "source": [
    "tf1 = tf.constant([[2, 4.5],[5.2, 53]])\n",
    "print(tf1)\n",
    "print(tf1.numpy())\n",
    "\n",
    "tf2 = tf.zeros_like(tf1)\n",
    "print(tf2)\n",
    "\n",
    "tf3 = tf.ones_like(tf1)\n",
    "print(tf3)"
   ]
  },
  {
   "cell_type": "code",
   "execution_count": 56,
   "id": "c601fafe",
   "metadata": {},
   "outputs": [
    {
     "name": "stdout",
     "output_type": "stream",
     "text": [
      "tf.Tensor([0 1 2 3 4 5 6 7 8 9], shape=(10,), dtype=int32)\n",
      "tf.Tensor(\n",
      "[[0.81680226 0.86328495]\n",
      " [0.138219   0.15061057]], shape=(2, 2), dtype=float32)\n",
      "tf.Tensor(\n",
      "[[-0.74406505 -0.90292567]\n",
      " [ 0.6332105  -1.9844692 ]\n",
      " [-1.4267209  -0.02349401]], shape=(3, 2), dtype=float32)\n"
     ]
    }
   ],
   "source": [
    "tf4 = tf.range(10)\n",
    "print(tf4)\n",
    "\n",
    "#0~1사이의 랜덤한 값을 2행 2열로 추출\n",
    "tf5 = tf.random.uniform((2, 2))\n",
    "print(tf5)\n",
    "\n",
    "#정규분포 난수를 3행 2열로 추출\n",
    "tf6 = tf.random.normal((3, 2))\n",
    "print(tf6)"
   ]
  },
  {
   "cell_type": "markdown",
   "id": "b4fcc424",
   "metadata": {},
   "source": [
    "## 7) 텐서의 속성"
   ]
  },
  {
   "cell_type": "code",
   "execution_count": 59,
   "id": "65455b42",
   "metadata": {},
   "outputs": [
    {
     "name": "stdout",
     "output_type": "stream",
     "text": [
      "tf.Tensor(\n",
      "[[-0.8647456   1.615052   -1.1073326  -0.76404846]\n",
      " [ 1.5331246   1.7867993   0.5094841   0.27155465]\n",
      " [-1.5917287   0.9521845  -0.07906055  0.76146066]], shape=(3, 4), dtype=float32)\n",
      "(3, 4)\n",
      "<dtype: 'float32'>\n"
     ]
    }
   ],
   "source": [
    "t1 = tf.random.normal((3, 4))\n",
    "print(t1)\n",
    "print(t1.shape)\n",
    "print(t1.dtype)\n"
   ]
  },
  {
   "cell_type": "code",
   "execution_count": 60,
   "id": "19959383",
   "metadata": {},
   "outputs": [
    {
     "name": "stdout",
     "output_type": "stream",
     "text": [
      "tf.Tensor(\n",
      "[[ 0  1 -1  0]\n",
      " [ 1  1  0  0]\n",
      " [-1  0  0  0]], shape=(3, 4), dtype=int32)\n"
     ]
    }
   ],
   "source": [
    "#.cast(텐서, 변경할 타입) : 텐서의 각 요소 타입 변경\n",
    "t2 = tf.cast(t1, tf.int32)\n",
    "print(t2)"
   ]
  },
  {
   "cell_type": "code",
   "execution_count": null,
   "id": "89e63f3a",
   "metadata": {},
   "outputs": [],
   "source": []
  },
  {
   "cell_type": "code",
   "execution_count": null,
   "id": "8cfe0699",
   "metadata": {},
   "outputs": [],
   "source": []
  },
  {
   "cell_type": "code",
   "execution_count": null,
   "id": "3d1f452a",
   "metadata": {},
   "outputs": [],
   "source": []
  },
  {
   "cell_type": "code",
   "execution_count": null,
   "id": "c5963d95",
   "metadata": {},
   "outputs": [],
   "source": []
  },
  {
   "cell_type": "code",
   "execution_count": null,
   "id": "39acfb9d",
   "metadata": {},
   "outputs": [],
   "source": []
  },
  {
   "cell_type": "code",
   "execution_count": null,
   "id": "d0c9036c",
   "metadata": {},
   "outputs": [],
   "source": []
  },
  {
   "cell_type": "code",
   "execution_count": null,
   "id": "5f920d2c",
   "metadata": {},
   "outputs": [],
   "source": []
  },
  {
   "cell_type": "code",
   "execution_count": null,
   "id": "3cdd0962",
   "metadata": {},
   "outputs": [],
   "source": []
  },
  {
   "cell_type": "code",
   "execution_count": null,
   "id": "2792b6da",
   "metadata": {},
   "outputs": [],
   "source": []
  },
  {
   "cell_type": "code",
   "execution_count": null,
   "id": "7c839965",
   "metadata": {},
   "outputs": [],
   "source": []
  },
  {
   "cell_type": "code",
   "execution_count": null,
   "id": "309ddc43",
   "metadata": {},
   "outputs": [],
   "source": []
  },
  {
   "cell_type": "code",
   "execution_count": null,
   "id": "f62b5468",
   "metadata": {},
   "outputs": [],
   "source": []
  },
  {
   "cell_type": "code",
   "execution_count": null,
   "id": "54a1586b",
   "metadata": {},
   "outputs": [],
   "source": []
  },
  {
   "cell_type": "code",
   "execution_count": null,
   "id": "a20b8ddc",
   "metadata": {},
   "outputs": [],
   "source": []
  },
  {
   "cell_type": "code",
   "execution_count": null,
   "id": "883689bb",
   "metadata": {},
   "outputs": [],
   "source": []
  }
 ],
 "metadata": {
  "kernelspec": {
   "display_name": "Python 3 (ipykernel)",
   "language": "python",
   "name": "python3"
  },
  "language_info": {
   "codemirror_mode": {
    "name": "ipython",
    "version": 3
   },
   "file_extension": ".py",
   "mimetype": "text/x-python",
   "name": "python",
   "nbconvert_exporter": "python",
   "pygments_lexer": "ipython3",
   "version": "3.11.4"
  }
 },
 "nbformat": 4,
 "nbformat_minor": 5
}
