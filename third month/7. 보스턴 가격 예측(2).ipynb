{
 "cells": [
  {
   "cell_type": "code",
   "execution_count": 1,
   "id": "4084c334",
   "metadata": {},
   "outputs": [
    {
     "name": "stdout",
     "output_type": "stream",
     "text": [
      "WARNING:tensorflow:From C:\\Users\\JOOYONKJ\\anaconda3\\Lib\\site-packages\\keras\\src\\losses.py:2976: The name tf.losses.sparse_softmax_cross_entropy is deprecated. Please use tf.compat.v1.losses.sparse_softmax_cross_entropy instead.\n",
      "\n"
     ]
    },
    {
     "data": {
      "text/plain": [
       "((array([[1.23247e+00, 0.00000e+00, 8.14000e+00, ..., 2.10000e+01,\n",
       "          3.96900e+02, 1.87200e+01],\n",
       "         [2.17700e-02, 8.25000e+01, 2.03000e+00, ..., 1.47000e+01,\n",
       "          3.95380e+02, 3.11000e+00],\n",
       "         [4.89822e+00, 0.00000e+00, 1.81000e+01, ..., 2.02000e+01,\n",
       "          3.75520e+02, 3.26000e+00],\n",
       "         ...,\n",
       "         [3.46600e-02, 3.50000e+01, 6.06000e+00, ..., 1.69000e+01,\n",
       "          3.62250e+02, 7.83000e+00],\n",
       "         [2.14918e+00, 0.00000e+00, 1.95800e+01, ..., 1.47000e+01,\n",
       "          2.61950e+02, 1.57900e+01],\n",
       "         [1.43900e-02, 6.00000e+01, 2.93000e+00, ..., 1.56000e+01,\n",
       "          3.76700e+02, 4.38000e+00]]),\n",
       "  array([15.2, 42.3, 50. , 21.1, 17.7, 18.5, 11.3, 15.6, 15.6, 14.4, 12.1,\n",
       "         17.9, 23.1, 19.9, 15.7,  8.8, 50. , 22.5, 24.1, 27.5, 10.9, 30.8,\n",
       "         32.9, 24. , 18.5, 13.3, 22.9, 34.7, 16.6, 17.5, 22.3, 16.1, 14.9,\n",
       "         23.1, 34.9, 25. , 13.9, 13.1, 20.4, 20. , 15.2, 24.7, 22.2, 16.7,\n",
       "         12.7, 15.6, 18.4, 21. , 30.1, 15.1, 18.7,  9.6, 31.5, 24.8, 19.1,\n",
       "         22. , 14.5, 11. , 32. , 29.4, 20.3, 24.4, 14.6, 19.5, 14.1, 14.3,\n",
       "         15.6, 10.5,  6.3, 19.3, 19.3, 13.4, 36.4, 17.8, 13.5, 16.5,  8.3,\n",
       "         14.3, 16. , 13.4, 28.6, 43.5, 20.2, 22. , 23. , 20.7, 12.5, 48.5,\n",
       "         14.6, 13.4, 23.7, 50. , 21.7, 39.8, 38.7, 22.2, 34.9, 22.5, 31.1,\n",
       "         28.7, 46. , 41.7, 21. , 26.6, 15. , 24.4, 13.3, 21.2, 11.7, 21.7,\n",
       "         19.4, 50. , 22.8, 19.7, 24.7, 36.2, 14.2, 18.9, 18.3, 20.6, 24.6,\n",
       "         18.2,  8.7, 44. , 10.4, 13.2, 21.2, 37. , 30.7, 22.9, 20. , 19.3,\n",
       "         31.7, 32. , 23.1, 18.8, 10.9, 50. , 19.6,  5. , 14.4, 19.8, 13.8,\n",
       "         19.6, 23.9, 24.5, 25. , 19.9, 17.2, 24.6, 13.5, 26.6, 21.4, 11.9,\n",
       "         22.6, 19.6,  8.5, 23.7, 23.1, 22.4, 20.5, 23.6, 18.4, 35.2, 23.1,\n",
       "         27.9, 20.6, 23.7, 28. , 13.6, 27.1, 23.6, 20.6, 18.2, 21.7, 17.1,\n",
       "          8.4, 25.3, 13.8, 22.2, 18.4, 20.7, 31.6, 30.5, 20.3,  8.8, 19.2,\n",
       "         19.4, 23.1, 23. , 14.8, 48.8, 22.6, 33.4, 21.1, 13.6, 32.2, 13.1,\n",
       "         23.4, 18.9, 23.9, 11.8, 23.3, 22.8, 19.6, 16.7, 13.4, 22.2, 20.4,\n",
       "         21.8, 26.4, 14.9, 24.1, 23.8, 12.3, 29.1, 21. , 19.5, 23.3, 23.8,\n",
       "         17.8, 11.5, 21.7, 19.9, 25. , 33.4, 28.5, 21.4, 24.3, 27.5, 33.1,\n",
       "         16.2, 23.3, 48.3, 22.9, 22.8, 13.1, 12.7, 22.6, 15. , 15.3, 10.5,\n",
       "         24. , 18.5, 21.7, 19.5, 33.2, 23.2,  5. , 19.1, 12.7, 22.3, 10.2,\n",
       "         13.9, 16.3, 17. , 20.1, 29.9, 17.2, 37.3, 45.4, 17.8, 23.2, 29. ,\n",
       "         22. , 18. , 17.4, 34.6, 20.1, 25. , 15.6, 24.8, 28.2, 21.2, 21.4,\n",
       "         23.8, 31. , 26.2, 17.4, 37.9, 17.5, 20. ,  8.3, 23.9,  8.4, 13.8,\n",
       "          7.2, 11.7, 17.1, 21.6, 50. , 16.1, 20.4, 20.6, 21.4, 20.6, 36.5,\n",
       "          8.5, 24.8, 10.8, 21.9, 17.3, 18.9, 36.2, 14.9, 18.2, 33.3, 21.8,\n",
       "         19.7, 31.6, 24.8, 19.4, 22.8,  7.5, 44.8, 16.8, 18.7, 50. , 50. ,\n",
       "         19.5, 20.1, 50. , 17.2, 20.8, 19.3, 41.3, 20.4, 20.5, 13.8, 16.5,\n",
       "         23.9, 20.6, 31.5, 23.3, 16.8, 14. , 33.8, 36.1, 12.8, 18.3, 18.7,\n",
       "         19.1, 29. , 30.1, 50. , 50. , 22. , 11.9, 37.6, 50. , 22.7, 20.8,\n",
       "         23.5, 27.9, 50. , 19.3, 23.9, 22.6, 15.2, 21.7, 19.2, 43.8, 20.3,\n",
       "         33.2, 19.9, 22.5, 32.7, 22. , 17.1, 19. , 15. , 16.1, 25.1, 23.7,\n",
       "         28.7, 37.2, 22.6, 16.4, 25. , 29.8, 22.1, 17.4, 18.1, 30.3, 17.5,\n",
       "         24.7, 12.6, 26.5, 28.7, 13.3, 10.4, 24.4, 23. , 20. , 17.8,  7. ,\n",
       "         11.8, 24.4, 13.8, 19.4, 25.2, 19.4, 19.4, 29.1])),\n",
       " (array([[1.80846e+01, 0.00000e+00, 1.81000e+01, ..., 2.02000e+01,\n",
       "          2.72500e+01, 2.90500e+01],\n",
       "         [1.23290e-01, 0.00000e+00, 1.00100e+01, ..., 1.78000e+01,\n",
       "          3.94950e+02, 1.62100e+01],\n",
       "         [5.49700e-02, 0.00000e+00, 5.19000e+00, ..., 2.02000e+01,\n",
       "          3.96900e+02, 9.74000e+00],\n",
       "         ...,\n",
       "         [1.83377e+00, 0.00000e+00, 1.95800e+01, ..., 1.47000e+01,\n",
       "          3.89610e+02, 1.92000e+00],\n",
       "         [3.58090e-01, 0.00000e+00, 6.20000e+00, ..., 1.74000e+01,\n",
       "          3.91700e+02, 9.71000e+00],\n",
       "         [2.92400e+00, 0.00000e+00, 1.95800e+01, ..., 1.47000e+01,\n",
       "          2.40160e+02, 9.81000e+00]]),\n",
       "  array([ 7.2, 18.8, 19. , 27. , 22.2, 24.5, 31.2, 22.9, 20.5, 23.2, 18.6,\n",
       "         14.5, 17.8, 50. , 20.8, 24.3, 24.2, 19.8, 19.1, 22.7, 12. , 10.2,\n",
       "         20. , 18.5, 20.9, 23. , 27.5, 30.1,  9.5, 22. , 21.2, 14.1, 33.1,\n",
       "         23.4, 20.1,  7.4, 15.4, 23.8, 20.1, 24.5, 33. , 28.4, 14.1, 46.7,\n",
       "         32.5, 29.6, 28.4, 19.8, 20.2, 25. , 35.4, 20.3,  9.7, 14.5, 34.9,\n",
       "         26.6,  7.2, 50. , 32.4, 21.6, 29.8, 13.1, 27.5, 21.2, 23.1, 21.9,\n",
       "         13. , 23.2,  8.1,  5.6, 21.7, 29.6, 19.6,  7. , 26.4, 18.9, 20.9,\n",
       "         28.1, 35.4, 10.2, 24.3, 43.1, 17.6, 15.4, 16.2, 27.1, 21.4, 21.5,\n",
       "         22.4, 25. , 16.6, 18.6, 22. , 42.8, 35.1, 21.5, 36. , 21.9, 24.1,\n",
       "         50. , 26.7, 25. ])))"
      ]
     },
     "execution_count": 1,
     "metadata": {},
     "output_type": "execute_result"
    }
   ],
   "source": [
    "from tensorflow.keras.datasets import boston_housing\n",
    "import tensorflow as tf\n",
    "\n",
    "bh = boston_housing.load_data()\n",
    "bh"
   ]
  },
  {
   "cell_type": "code",
   "execution_count": 2,
   "id": "10694d16",
   "metadata": {},
   "outputs": [
    {
     "name": "stdout",
     "output_type": "stream",
     "text": [
      "404 404\n",
      "(404, 13) (404,)\n"
     ]
    }
   ],
   "source": [
    "(X_train, y_train),(X_test, y_test) = boston_housing.load_data()\n",
    "print(len(X_train), len(y_train))\n",
    "print(X_train.shape, y_train.shape)\n",
    "\n"
   ]
  },
  {
   "cell_type": "code",
   "execution_count": 3,
   "id": "b9d4c667",
   "metadata": {},
   "outputs": [],
   "source": [
    "#정규화\n",
    "x_mean = X_train.mean(axis=0)\n",
    "x_std = X_train.std(axis=0)\n",
    "\n",
    "# print(x_mean)\n",
    "# print(x_std)\n",
    "\n",
    "X_train -= x_mean\n",
    "X_train /= x_std\n",
    "\n",
    "X_test -= x_mean\n",
    "X_test /= x_std\n",
    "\n"
   ]
  },
  {
   "cell_type": "code",
   "execution_count": 4,
   "id": "09358979",
   "metadata": {},
   "outputs": [
    {
     "name": "stdout",
     "output_type": "stream",
     "text": [
      "[-0.27224633 -0.48361547 -0.43576161 -0.25683275 -0.1652266  -0.1764426\n",
      "  0.81306188  0.1166983  -0.62624905 -0.59517003  1.14850044  0.44807713\n",
      "  0.8252202 ]\n",
      "-0.7821526033779157\n"
     ]
    }
   ],
   "source": [
    "y_mean = y_train.mean(axis = 0)\n",
    "y_std = y_train.std(axis=0)\n",
    "\n",
    "y_train -= y_mean\n",
    "y_train /= y_std\n",
    "\n",
    "y_test -= y_mean\n",
    "y_test /= y_std\n",
    "\n",
    "print(X_train[0])\n",
    "print(y_train[0])"
   ]
  },
  {
   "cell_type": "code",
   "execution_count": 5,
   "id": "e4034bec",
   "metadata": {},
   "outputs": [
    {
     "name": "stdout",
     "output_type": "stream",
     "text": [
      "WARNING:tensorflow:From C:\\Users\\JOOYONKJ\\anaconda3\\Lib\\site-packages\\keras\\src\\backend.py:873: The name tf.get_default_graph is deprecated. Please use tf.compat.v1.get_default_graph instead.\n",
      "\n"
     ]
    },
    {
     "name": "stderr",
     "output_type": "stream",
     "text": [
      "WARNING:absl:`lr` is deprecated in Keras optimizer, please use `learning_rate` or use the legacy optimizer, e.g.,tf.keras.optimizers.legacy.Adam.\n"
     ]
    },
    {
     "name": "stdout",
     "output_type": "stream",
     "text": [
      "Model: \"sequential\"\n",
      "_________________________________________________________________\n",
      " Layer (type)                Output Shape              Param #   \n",
      "=================================================================\n",
      " dense (Dense)               (None, 52)                728       \n",
      "                                                                 \n",
      " dense_1 (Dense)             (None, 39)                2067      \n",
      "                                                                 \n",
      " dense_2 (Dense)             (None, 25)                1000      \n",
      "                                                                 \n",
      " dense_3 (Dense)             (None, 1)                 26        \n",
      "                                                                 \n",
      "=================================================================\n",
      "Total params: 3821 (14.93 KB)\n",
      "Trainable params: 3821 (14.93 KB)\n",
      "Non-trainable params: 0 (0.00 Byte)\n",
      "_________________________________________________________________\n"
     ]
    }
   ],
   "source": [
    "model = tf.keras.Sequential([\n",
    "    tf.keras.layers.Dense(units = 52, activation = 'relu', input_shape = (13, )),\n",
    "    tf.keras.layers.Dense(units = 39, activation = \"relu\"),\n",
    "    tf.keras.layers.Dense(units = 25, activation = \"relu\"),\n",
    "    tf.keras.layers.Dense(units = 1)])\n",
    "\n",
    "model.compile(optimizer = tf.keras.optimizers.Adam(lr = 0.07), loss = \"mse\")\n",
    "model.summary()"
   ]
  },
  {
   "cell_type": "code",
   "execution_count": 6,
   "id": "ad36d76e",
   "metadata": {},
   "outputs": [
    {
     "name": "stdout",
     "output_type": "stream",
     "text": [
      "Epoch 1/25\n",
      "WARNING:tensorflow:From C:\\Users\\JOOYONKJ\\anaconda3\\Lib\\site-packages\\keras\\src\\utils\\tf_utils.py:492: The name tf.ragged.RaggedTensorValue is deprecated. Please use tf.compat.v1.ragged.RaggedTensorValue instead.\n",
      "\n"
     ]
    },
    {
     "name": "stderr",
     "output_type": "stream",
     "text": [
      "WARNING:tensorflow:From C:\\Users\\JOOYONKJ\\anaconda3\\Lib\\site-packages\\keras\\src\\utils\\tf_utils.py:492: The name tf.ragged.RaggedTensorValue is deprecated. Please use tf.compat.v1.ragged.RaggedTensorValue instead.\n",
      "\n"
     ]
    },
    {
     "name": "stdout",
     "output_type": "stream",
     "text": [
      "10/10 [==============================] - 2s 58ms/step - loss: 0.7153 - val_loss: 0.8761\n",
      "Epoch 2/25\n",
      "10/10 [==============================] - 0s 13ms/step - loss: 0.4861 - val_loss: 0.6779\n",
      "Epoch 3/25\n",
      "10/10 [==============================] - 0s 13ms/step - loss: 0.3614 - val_loss: 0.5481\n",
      "Epoch 4/25\n",
      "10/10 [==============================] - 0s 12ms/step - loss: 0.2904 - val_loss: 0.4382\n",
      "Epoch 5/25\n",
      "10/10 [==============================] - 0s 11ms/step - loss: 0.2353 - val_loss: 0.3682\n",
      "Epoch 6/25\n",
      "10/10 [==============================] - 0s 10ms/step - loss: 0.2060 - val_loss: 0.3311\n",
      "Epoch 7/25\n",
      "10/10 [==============================] - 0s 18ms/step - loss: 0.1888 - val_loss: 0.3091\n",
      "Epoch 8/25\n",
      "10/10 [==============================] - 0s 12ms/step - loss: 0.1775 - val_loss: 0.2844\n",
      "Epoch 9/25\n",
      "10/10 [==============================] - 0s 13ms/step - loss: 0.1602 - val_loss: 0.2734\n",
      "Epoch 10/25\n",
      "10/10 [==============================] - 0s 9ms/step - loss: 0.1442 - val_loss: 0.2577\n",
      "Epoch 11/25\n",
      "10/10 [==============================] - 0s 9ms/step - loss: 0.1396 - val_loss: 0.2396\n",
      "Epoch 12/25\n",
      "10/10 [==============================] - 0s 10ms/step - loss: 0.1252 - val_loss: 0.2259\n",
      "Epoch 13/25\n",
      "10/10 [==============================] - 0s 10ms/step - loss: 0.1142 - val_loss: 0.2136\n",
      "Epoch 14/25\n",
      "10/10 [==============================] - 0s 9ms/step - loss: 0.1099 - val_loss: 0.2086\n",
      "Epoch 15/25\n",
      "10/10 [==============================] - 0s 9ms/step - loss: 0.1026 - val_loss: 0.2000\n",
      "Epoch 16/25\n",
      "10/10 [==============================] - 0s 9ms/step - loss: 0.0943 - val_loss: 0.1846\n",
      "Epoch 17/25\n",
      "10/10 [==============================] - 0s 9ms/step - loss: 0.0907 - val_loss: 0.1791\n",
      "Epoch 18/25\n",
      "10/10 [==============================] - 0s 9ms/step - loss: 0.0904 - val_loss: 0.1687\n",
      "Epoch 19/25\n",
      "10/10 [==============================] - 0s 10ms/step - loss: 0.0854 - val_loss: 0.1651\n",
      "Epoch 20/25\n",
      "10/10 [==============================] - 0s 10ms/step - loss: 0.0793 - val_loss: 0.1628\n",
      "Epoch 21/25\n",
      "10/10 [==============================] - 0s 9ms/step - loss: 0.0767 - val_loss: 0.1593\n",
      "Epoch 22/25\n",
      "10/10 [==============================] - 0s 9ms/step - loss: 0.0746 - val_loss: 0.1579\n",
      "Epoch 23/25\n",
      "10/10 [==============================] - 0s 9ms/step - loss: 0.0730 - val_loss: 0.1531\n",
      "Epoch 24/25\n",
      "10/10 [==============================] - 0s 10ms/step - loss: 0.0679 - val_loss: 0.1539\n",
      "Epoch 25/25\n",
      "10/10 [==============================] - 0s 10ms/step - loss: 0.0676 - val_loss: 0.1521\n"
     ]
    }
   ],
   "source": [
    "history = model.fit(X_train, y_train, epochs = 25, batch_size = 32, validation_split=0.25)\n"
   ]
  },
  {
   "cell_type": "code",
   "execution_count": 7,
   "id": "f5a6604a",
   "metadata": {},
   "outputs": [
    {
     "data": {
      "image/png": "[encoded data removed]",
      "text/plain": [
       "<Figure size 640x480 with 1 Axes>"
      ]
     },
     "metadata": {},
     "output_type": "display_data"
    }
   ],
   "source": [
    "#손실그래프 시각화\n",
    "import matplotlib.pyplot as plt\n",
    "\n",
    "plt.plot(history.history['loss'], 'b-')\n",
    "plt.plot(history.history['val_loss'], 'r--')\n",
    "plt.show()"
   ]
  },
  {
   "cell_type": "code",
   "execution_count": 8,
   "id": "0f9ce39b",
   "metadata": {},
   "outputs": [
    {
     "name": "stdout",
     "output_type": "stream",
     "text": [
      "4/4 [==============================] - 0s 4ms/step - loss: 0.2436\n"
     ]
    },
    {
     "data": {
      "text/plain": [
       "0.2436480075120926"
      ]
     },
     "execution_count": 8,
     "metadata": {},
     "output_type": "execute_result"
    }
   ],
   "source": [
    "model.evaluate(X_test, y_test)"
   ]
  },
  {
   "cell_type": "code",
   "execution_count": 9,
   "id": "5dbb65a8",
   "metadata": {},
   "outputs": [
    {
     "name": "stderr",
     "output_type": "stream",
     "text": [
      "WARNING:absl:`lr` is deprecated in Keras optimizer, please use `learning_rate` or use the legacy optimizer, e.g.,tf.keras.optimizers.legacy.Adam.\n"
     ]
    },
    {
     "name": "stdout",
     "output_type": "stream",
     "text": [
      "Epoch 1/25\n",
      "10/10 [==============================] - 2s 38ms/step - loss: 1.3344 - val_loss: 1.1812\n",
      "Epoch 2/25\n",
      "10/10 [==============================] - 0s 10ms/step - loss: 0.9036 - val_loss: 0.9520\n",
      "Epoch 3/25\n",
      "10/10 [==============================] - 0s 11ms/step - loss: 0.6614 - val_loss: 0.8054\n",
      "Epoch 4/25\n",
      "10/10 [==============================] - 0s 10ms/step - loss: 0.5245 - val_loss: 0.7045\n",
      "Epoch 5/25\n",
      "10/10 [==============================] - 0s 10ms/step - loss: 0.4391 - val_loss: 0.6251\n",
      "Epoch 6/25\n",
      "10/10 [==============================] - 0s 17ms/step - loss: 0.3815 - val_loss: 0.5544\n",
      "Epoch 7/25\n",
      "10/10 [==============================] - 0s 12ms/step - loss: 0.3339 - val_loss: 0.4881\n",
      "Epoch 8/25\n",
      "10/10 [==============================] - 0s 10ms/step - loss: 0.2967 - val_loss: 0.4381\n",
      "Epoch 9/25\n",
      "10/10 [==============================] - 0s 9ms/step - loss: 0.2692 - val_loss: 0.3986\n",
      "Epoch 10/25\n",
      "10/10 [==============================] - 0s 8ms/step - loss: 0.2466 - val_loss: 0.3678\n",
      "Epoch 11/25\n",
      "10/10 [==============================] - 0s 10ms/step - loss: 0.2287 - val_loss: 0.3429\n",
      "Epoch 12/25\n",
      "10/10 [==============================] - 0s 9ms/step - loss: 0.2163 - val_loss: 0.3248\n",
      "Epoch 13/25\n",
      "10/10 [==============================] - 0s 11ms/step - loss: 0.2036 - val_loss: 0.3063\n",
      "Epoch 14/25\n",
      "10/10 [==============================] - 0s 12ms/step - loss: 0.1932 - val_loss: 0.2893\n",
      "Epoch 15/25\n",
      "10/10 [==============================] - 0s 10ms/step - loss: 0.1838 - val_loss: 0.2788\n",
      "Epoch 16/25\n",
      "10/10 [==============================] - 0s 8ms/step - loss: 0.1763 - val_loss: 0.2700\n",
      "Epoch 17/25\n",
      "10/10 [==============================] - 0s 8ms/step - loss: 0.1687 - val_loss: 0.2611\n",
      "Epoch 18/25\n",
      "10/10 [==============================] - 0s 9ms/step - loss: 0.1623 - val_loss: 0.2550\n",
      "Epoch 19/25\n",
      "10/10 [==============================] - 0s 9ms/step - loss: 0.1568 - val_loss: 0.2491\n",
      "Epoch 20/25\n",
      "10/10 [==============================] - 0s 8ms/step - loss: 0.1515 - val_loss: 0.2428\n",
      "Epoch 21/25\n",
      "10/10 [==============================] - 0s 8ms/step - loss: 0.1474 - val_loss: 0.2355\n",
      "Epoch 22/25\n",
      "10/10 [==============================] - 0s 10ms/step - loss: 0.1428 - val_loss: 0.2318\n",
      "Epoch 23/25\n",
      "10/10 [==============================] - 0s 10ms/step - loss: 0.1389 - val_loss: 0.2281\n",
      "Epoch 24/25\n",
      "10/10 [==============================] - 0s 9ms/step - loss: 0.1360 - val_loss: 0.2248\n",
      "Epoch 25/25\n",
      "10/10 [==============================] - 0s 9ms/step - loss: 0.1329 - val_loss: 0.2218\n"
     ]
    }
   ],
   "source": [
    "#입력층 units 32\n",
    "#은닉층 units 16\n",
    "#출력층 units 1\n",
    "\n",
    "model = tf.keras.Sequential([\n",
    "    tf.keras.layers.Dense(units=32, activation=\"relu\", input_shape = (13, )),\n",
    "    tf.keras.layers.Dense(units=16, activation=\"relu\"),\n",
    "    tf.keras.layers.Dense(units=1)])\n",
    "\n",
    "model.compile(optimizer = tf.keras.optimizers.Adam(lr=0.07), loss = \"mse\")\n",
    "history = model.fit(X_train, y_train, epochs = 25, batch_size = 32, validation_split=0.25,\n",
    "                    callbacks = [tf.keras.callbacks.EarlyStopping(patience = 3, monitor = 'val_loss')])"
   ]
  },
  {
   "cell_type": "code",
   "execution_count": 10,
   "id": "d0d08429",
   "metadata": {},
   "outputs": [
    {
     "data": {
      "image/png": "[encoded data removed]",
      "text/plain": [
       "<Figure size 640x480 with 1 Axes>"
      ]
     },
     "metadata": {},
     "output_type": "display_data"
    }
   ],
   "source": [
    "plt.plot(history.history['loss'], 'b-')\n",
    "plt.plot(history.history['val_loss'], 'r--')\n",
    "plt.show()"
   ]
  },
  {
   "cell_type": "code",
   "execution_count": 11,
   "id": "bd5fad1f",
   "metadata": {},
   "outputs": [
    {
     "name": "stdout",
     "output_type": "stream",
     "text": [
      "4/4 [==============================] - 0s 4ms/step - loss: 0.2842\n",
      "4/4 [==============================] - 0s 3ms/step\n"
     ]
    },
    {
     "data": {
      "image/png": "[encoded data removed]",
      "text/plain": [
       "<Figure size 500x500 with 1 Axes>"
      ]
     },
     "metadata": {},
     "output_type": "display_data"
    },
    {
     "name": "stdout",
     "output_type": "stream",
     "text": [
      "-1.825740279496296 3.0008527225512145\n"
     ]
    }
   ],
   "source": [
    "model.evaluate(X_test, y_test)\n",
    "pred = model.predict(X_test)\n",
    "\n",
    "plt.figure(figsize= (5, 5))\n",
    "plt.plot(y_test, pred, 'b.')\n",
    "plt.axis([min(y_test), max(y_test), min(y_test), max(y_test)])\n",
    "#plt.axis() : x축과 y축의 범위 설정함수\n",
    "\n",
    "plt.plot([min(y_test), max(y_test)], [min(y_test), max(y_test)])\n",
    "plt.show()\n",
    "\n",
    "\n",
    "print(min(y_test),  max(y_test))\n"
   ]
  },
  {
   "cell_type": "code",
   "execution_count": null,
   "id": "b2a9aa85",
   "metadata": {},
   "outputs": [],
   "source": []
  }
 ],
 "metadata": {
  "kernelspec": {
   "display_name": "Python 3 (ipykernel)",
   "language": "python",
   "name": "python3"
  },
  "language_info": {
   "codemirror_mode": {
    "name": "ipython",
    "version": 3
   },
   "file_extension": ".py",
   "mimetype": "text/x-python",
   "name": "python",
   "nbconvert_exporter": "python",
   "pygments_lexer": "ipython3",
   "version": "3.11.4"
  }
 },
 "nbformat": 4,
 "nbformat_minor": 5
}
